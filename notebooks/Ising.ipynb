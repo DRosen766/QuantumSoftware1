{
 "cells": [
  {
   "cell_type": "markdown",
   "id": "104b88a6-debb-451f-a5d9-bfeebadb7959",
   "metadata": {},
   "source": [
    "# Introduction to the Monte Carlo method\n",
    "\n",
    "----\n",
    "\n",
    "Start by defining the [Gibbs (or Boltzmann) distribution](https://en.wikipedia.org/wiki/Boltzmann_distribution):\n",
    "$$P(\\alpha) = e^{-E(\\alpha)/kT}$$\n",
    "this expression, defines the probability of observing a particular configuration of spins, $\\alpha$. \n",
    "As you can see, the probability of $\\alpha$ decays exponentially with increasing energy of $\\alpha$, $E(\\alpha)$,\n",
    "where $k$ is the Boltzmann constant, $k = 1.38064852 \\times 10^{-23} J/K$\n",
    "and $T$ is the temperature in Kelvin. \n",
    "\n",
    "## What defines the energy of a configuration of spins? \n",
    "Given a configuration of spins (e.g., $\\uparrow\\downarrow\\downarrow\\uparrow\\downarrow$) we can define the energy using what is referred to as an Ising Hamiltonian:\n",
    "$$ \\hat{H}' = \\frac{\\hat{H}}{k} = -\\frac{J}{k}\\sum_{<ij>} s_is_j,$$\n",
    "where, $s_i=1$ if the $i^{th}$ spin is `up` and $s_i=-1$ if it is `down`, and the brackets $<ij>$ indicate a sum over spins that are connected,\n",
    "and $J$ is a constant that determines the energy scale. \n",
    "The energy here has been divided by the Boltzmann constant to yield units of temperature. \n",
    "Let's consider the following case, which has the sites connected in a single 1D line:\n",
    "$$\\alpha = \\uparrow-\\downarrow-\\downarrow-\\uparrow-\\downarrow.$$ \n",
    "What is the energy of such a configuration?\n",
    "$$ E(\\alpha)' = J/k(-1 + 1 - 1 - 1) = \\frac{E(\\alpha)}{k} = -2J/k$$\n",
    "\n",
    "## P1: Write a class that defines a spin configuration"
   ]
  },
  {
   "cell_type": "code",
   "execution_count": 61,
   "id": "529dbc32-dd81-4181-b201-77e39ce16c2e",
   "metadata": {},
   "outputs": [],
   "source": [
    "class spinConfiguration:\n",
    "    \n",
    "        def __init__(self, binaryConfiguration, numElements):\n",
    "#     number of elements in list of spins\n",
    "            self.numElements = numElements\n",
    "            self.spins = self.getSpins(binaryConfiguration)\n",
    "            \n",
    "        def getSpins(self, binaryConfiguration):\n",
    "            spinList = []\n",
    "            bitList = [bit for bit in bin(binaryConfiguration)][2:self.numElements + 2]\n",
    "            while(len(bitList) < self.numElements):\n",
    "                bitList.insert(0,'0')\n",
    "            \n",
    "            for bitChar in bitList:\n",
    "                if(bitChar == '0'):\n",
    "                    spinList.append(-1)\n",
    "                else:\n",
    "                    spinList.append(1)\n",
    "            print(spinList)\n",
    "            return 2\n",
    "        \n",
    "        def getNumElements(self):\n",
    "            return self.numElements\n",
    "        \n",
    "        def calculateMagnetism(self):\n",
    "            magnetism = 0\n",
    "            for i in range(self.numElements):\n",
    "                magnetism += self.spins[i]\n",
    "            return magnetism;\n",
    "            "
   ]
  },
  {
   "cell_type": "code",
   "execution_count": 62,
   "id": "e3d29780",
   "metadata": {},
   "outputs": [
    {
     "name": "stdout",
     "output_type": "stream",
     "text": [
      "[1, -1, -1]\n"
     ]
    }
   ],
   "source": [
    "# test spinconfiguration class\n",
    "spinConfiguration = spinConfiguration(4, 3)"
   ]
  },
  {
   "cell_type": "markdown",
   "id": "989abe5d-689d-427b-b3c0-bb7a130594d8",
   "metadata": {},
   "source": [
    "## P2: Write a class that defines the 1D hamiltonian, containing a function that computes the energy of a configuration"
   ]
  },
  {
   "cell_type": "code",
   "execution_count": 63,
   "id": "50dbe70d-8e24-4551-99e6-82e55527c30d",
   "metadata": {},
   "outputs": [],
   "source": [
    "class SingleDimensionHamiltionian:\n",
    "#     k constant, arbitrarily sent to 1\n",
    "    \n",
    "#     constructor\n",
    "    def __init__(self, J, mu, spinConfiguration):\n",
    "        self.k = 1;\n",
    "        self.J = J\n",
    "        self.mu = mu\n",
    "        self.spinConfiguration = spinConfiguration\n",
    "        self.Hamiltonian = self.calculateHamiltonian()\n",
    "        \n",
    "    def calculateHamiltonian(self):\n",
    "        factor = -1 * self.J / self.k\n",
    "        spinSums = 0\n",
    "#         nested loops calculate alignment factor for each pair of elements\n",
    "        for i in range(0, self.spinConfiguration.getNumElements()):\n",
    "            for j in range(0, self.spinConfiguration.getNumElements()):\n",
    "                if(i != j):\n",
    "                    spinSums += self.spinConfiguration.getSpins()[i] * self.spinConfiguration.getSpins()[j]\n",
    "        return factor * spinSums\n",
    "                    \n",
    "        \n",
    "    def calculateEnergy(self):\n",
    "        sumOfProductsOfSpins = 0\n",
    "        sumOfSpins = 0\n",
    "        for i in range(self.spinConfiguration.numElements):\n",
    "            sumOfSpins += self.spinConfiguration.spins[i]\n",
    "            for j in range(self.spinConfiguration.numElements):\n",
    "                if(i != j):\n",
    "                    sumOfProductsOfSpins += self.spinConfiguration.spins[i] * self.spinConfiguration.spins[j]\n",
    "        \n",
    "        firstComponent = self.J * sumOfProductsOfSpins\n",
    "        secondComponent = self.mu * sumOfSpins\n",
    "        \n",
    "        \n",
    "        instanceEnergy = firstComponent - secondComponent\n",
    "        return instanceEnergy\n"
   ]
  },
  {
   "cell_type": "markdown",
   "id": "dac534be",
   "metadata": {},
   "source": [
    "## Ising 2:"
   ]
  },
  {
   "cell_type": "code",
   "execution_count": 81,
   "id": "2565b168",
   "metadata": {},
   "outputs": [],
   "source": [
    "# for now only produces the configurations with two elements, should change soon\n",
    "def generateSpinConfigurations(n):\n",
    "    #generate spin configurations \n",
    "    spinConfigurations = []#convert each List in spinConfigurationsLists in SpinConfiguration object\n",
    "    for binaryConfiguration in range(2 ** n):\n",
    "        spinConfigurations.append(spinConfiguration(binaryConfiguration, n))\n",
    "\n",
    "    return spinConfigurations"
   ]
  },
  {
   "cell_type": "code",
   "execution_count": 82,
   "id": "3581295c",
   "metadata": {},
   "outputs": [],
   "source": [
    "import math\n",
    "\n",
    "# calculates averageEnergy, averageMagnetism, HeatCapacity, and Magnetic Susceptibility\n",
    "def calculateValues(temperature, J, mu):\n",
    "    #set k constant\n",
    "    k = 1\n",
    "    \n",
    "    #instantiate probability variable\n",
    "    totalProbability = 0\n",
    "\n",
    "    #instantiate lists for Energies and Probabilities\n",
    "    energies = []\n",
    "    energiesSquared = []\n",
    "    magnetisms = []\n",
    "    magnetismsSquared = []\n",
    "    probabilities = []\n",
    " \n",
    "    #calculate spinConfiguration\n",
    "    spinConfigurations = generateSpinConfigurations(2)\n",
    "    \n",
    "    #calculate Energies and Magnetisms for each spin configuration\n",
    "    for i in range(len(spinConfigurations)):\n",
    "#         define spinConfiguration and Hamiltonian for given instance\n",
    "        instanceSpinConfiguration = spinConfigurations[i];\n",
    "        instanceHamiltonian = SingleDimensionHamiltionian(J, mu, instanceSpinConfiguration)\n",
    "        \n",
    "#         add instance values to energies, magnetisms, and probabilities lists\n",
    "        instanceEnergy = instanceHamiltonian.calculateEnergy()\n",
    "        energies.append(instanceEnergy)\n",
    "        instanceMagnetism = instanceSpinConfiguration.calculateMagnetism();\n",
    "        magnetisms.append(instanceMagnetism)\n",
    "        instanceProbability = math.e ** (-1 * instanceEnergy / temperature)\n",
    "        probabilities.append(instanceProbability)\n",
    "        \n",
    "#         add instance probability to totalProbability\n",
    "        totalProbability += instanceProbability\n",
    "#     print(\"totalprobability: {}\".format(totalProbability))\n",
    "#     calculate Average Energy and Magnetism and EnergySquared and MagnetismSquared\n",
    "    averageEnergyNumerator = 0\n",
    "    averageEnergySquaredNumerator = 0\n",
    "    averageMagnetismNumerator = 0\n",
    "    averageMagnetismSquaredNumerator = 0\n",
    "    \n",
    "    for i in range(len(energies)):\n",
    "#         print(\"instanceEnergy {}: {}\".format(i, energies[i]))\n",
    "#         print(\"instanceMagnetism {}: {}\".format(i, magnetisms[i]))\n",
    "#         print(\"instanceProbability {}: {}\".format(i, probabilities[i]))\n",
    "        averageEnergyNumerator += energies[i] * probabilities[i]\n",
    "        averageEnergySquaredNumerator += energies[i] * energies[i] * probabilities[i]\n",
    "        averageMagnetismNumerator += magnetisms[i] * probabilities[i]\n",
    "        averageMagnetismSquaredNumerator += magnetisms[i] * magnetisms[i] * probabilities[i]\n",
    "    \n",
    "#     print(\"averageEnergyNumerator: {}\".format(averageEnergyNumerator))\n",
    "    averageEnergy = averageEnergyNumerator / totalProbability\n",
    "    averageEnergySquared = averageEnergySquaredNumerator / totalProbability\n",
    "    averageMagnetism = averageMagnetismNumerator / totalProbability\n",
    "    averageMagnetismSquared = averageMagnetismSquaredNumerator / totalProbability\n",
    "\n",
    "    # return results as a dictionary\n",
    "    return {\"averageEnergy\": averageEnergy, \n",
    "            \"averageEnergySquared\": averageEnergySquared,\n",
    "            \"averageMagnetism\": averageMagnetism,\n",
    "            \"averageMagnetismSquared\": averageMagnetismSquared,\n",
    "            \"temperature\": temperature\n",
    "           }"
   ]
  },
  {
   "cell_type": "code",
   "execution_count": 83,
   "id": "95bf2d59",
   "metadata": {},
   "outputs": [],
   "source": [
    "# function to calculate heat capacity\n",
    "def calculateHeatCapacity(averageEnergySquared, averageEnergy, temperature):\n",
    "    k = 1\n",
    "    #      (<EE> - <E><E> ) / (kTT)\n",
    "    return (averageEnergySquared - (averageEnergy ** 2)) / (k * (temperature ** 2))\n",
    "    \n",
    "\n",
    "# function to calculate magnetic susceptibility\n",
    "def calculateMagneticSusceptibilty(averageMagnetismSquared, averageMagnetism, temperature):       \n",
    "    k = 1                                        \n",
    "    # (<MM> - <M><M> ) / (kT)\n",
    "    return (averageMagnetismSquared - (averageMagnetism ** 2)) / (k * temperature)"
   ]
  },
  {
   "cell_type": "code",
   "execution_count": 84,
   "id": "c6d058bf",
   "metadata": {},
   "outputs": [
    {
     "ename": "TypeError",
     "evalue": "'spinConfiguration' object is not callable",
     "output_type": "error",
     "traceback": [
      "\u001b[1;31m---------------------------------------------------------------------------\u001b[0m",
      "\u001b[1;31mTypeError\u001b[0m                                 Traceback (most recent call last)",
      "\u001b[1;32m~\\AppData\\Local\\Temp/ipykernel_52912/757951175.py\u001b[0m in \u001b[0;36m<module>\u001b[1;34m\u001b[0m\n\u001b[0;32m      9\u001b[0m     \u001b[0mtemperatureValues\u001b[0m\u001b[1;33m.\u001b[0m\u001b[0mappend\u001b[0m\u001b[1;33m(\u001b[0m\u001b[0mi\u001b[0m \u001b[1;33m/\u001b[0m \u001b[1;36m10\u001b[0m\u001b[1;33m)\u001b[0m\u001b[1;33m\u001b[0m\u001b[1;33m\u001b[0m\u001b[0m\n\u001b[0;32m     10\u001b[0m \u001b[1;31m#     add averageEnergy and averageMagnetism values to lists\u001b[0m\u001b[1;33m\u001b[0m\u001b[1;33m\u001b[0m\u001b[0m\n\u001b[1;32m---> 11\u001b[1;33m     \u001b[0maverageEnergyValues\u001b[0m\u001b[1;33m.\u001b[0m\u001b[0mappend\u001b[0m\u001b[1;33m(\u001b[0m\u001b[0mcalculateValues\u001b[0m\u001b[1;33m(\u001b[0m\u001b[0mi\u001b[0m \u001b[1;33m/\u001b[0m \u001b[1;36m10\u001b[0m\u001b[1;33m,\u001b[0m \u001b[1;33m-\u001b[0m\u001b[1;36m2\u001b[0m\u001b[1;33m,\u001b[0m \u001b[1;36m1.1\u001b[0m\u001b[1;33m)\u001b[0m\u001b[1;33m[\u001b[0m\u001b[1;34m\"averageEnergy\"\u001b[0m\u001b[1;33m]\u001b[0m\u001b[1;33m)\u001b[0m\u001b[1;33m\u001b[0m\u001b[1;33m\u001b[0m\u001b[0m\n\u001b[0m\u001b[0;32m     12\u001b[0m     \u001b[0maverageMagnetismValues\u001b[0m\u001b[1;33m.\u001b[0m\u001b[0mappend\u001b[0m\u001b[1;33m(\u001b[0m\u001b[0mcalculateValues\u001b[0m\u001b[1;33m(\u001b[0m\u001b[0mi\u001b[0m \u001b[1;33m/\u001b[0m \u001b[1;36m10\u001b[0m\u001b[1;33m,\u001b[0m \u001b[1;33m-\u001b[0m\u001b[1;36m2\u001b[0m\u001b[1;33m,\u001b[0m \u001b[1;36m1.1\u001b[0m\u001b[1;33m)\u001b[0m\u001b[1;33m[\u001b[0m\u001b[1;34m\"averageMagnetism\"\u001b[0m\u001b[1;33m]\u001b[0m\u001b[1;33m)\u001b[0m\u001b[1;33m\u001b[0m\u001b[1;33m\u001b[0m\u001b[0m\n\u001b[0;32m     13\u001b[0m \u001b[1;33m\u001b[0m\u001b[0m\n",
      "\u001b[1;32m~\\AppData\\Local\\Temp/ipykernel_52912/1386903053.py\u001b[0m in \u001b[0;36mcalculateValues\u001b[1;34m(temperature, J, mu)\u001b[0m\n\u001b[0;32m     17\u001b[0m \u001b[1;33m\u001b[0m\u001b[0m\n\u001b[0;32m     18\u001b[0m     \u001b[1;31m#calculate spinConfiguration\u001b[0m\u001b[1;33m\u001b[0m\u001b[1;33m\u001b[0m\u001b[0m\n\u001b[1;32m---> 19\u001b[1;33m     \u001b[0mspinConfigurations\u001b[0m \u001b[1;33m=\u001b[0m \u001b[0mgenerateSpinConfigurations\u001b[0m\u001b[1;33m(\u001b[0m\u001b[1;36m2\u001b[0m\u001b[1;33m)\u001b[0m\u001b[1;33m\u001b[0m\u001b[1;33m\u001b[0m\u001b[0m\n\u001b[0m\u001b[0;32m     20\u001b[0m \u001b[1;33m\u001b[0m\u001b[0m\n\u001b[0;32m     21\u001b[0m     \u001b[1;31m#calculate Energies and Magnetisms for each spin configuration\u001b[0m\u001b[1;33m\u001b[0m\u001b[1;33m\u001b[0m\u001b[0m\n",
      "\u001b[1;32m~\\AppData\\Local\\Temp/ipykernel_52912/1952884334.py\u001b[0m in \u001b[0;36mgenerateSpinConfigurations\u001b[1;34m(n)\u001b[0m\n\u001b[0;32m      4\u001b[0m     \u001b[0mspinConfigurations\u001b[0m \u001b[1;33m=\u001b[0m \u001b[1;33m[\u001b[0m\u001b[1;33m]\u001b[0m\u001b[1;31m#convert each List in spinConfigurationsLists in SpinConfiguration object\u001b[0m\u001b[1;33m\u001b[0m\u001b[1;33m\u001b[0m\u001b[0m\n\u001b[0;32m      5\u001b[0m     \u001b[1;32mfor\u001b[0m \u001b[0mbinaryConfiguration\u001b[0m \u001b[1;32min\u001b[0m \u001b[0mrange\u001b[0m\u001b[1;33m(\u001b[0m\u001b[1;36m2\u001b[0m \u001b[1;33m**\u001b[0m \u001b[0mn\u001b[0m\u001b[1;33m)\u001b[0m\u001b[1;33m:\u001b[0m\u001b[1;33m\u001b[0m\u001b[1;33m\u001b[0m\u001b[0m\n\u001b[1;32m----> 6\u001b[1;33m         \u001b[0mspinConfigurations\u001b[0m\u001b[1;33m.\u001b[0m\u001b[0mappend\u001b[0m\u001b[1;33m(\u001b[0m\u001b[0mspinConfiguration\u001b[0m\u001b[1;33m(\u001b[0m\u001b[0mbinaryConfiguration\u001b[0m\u001b[1;33m,\u001b[0m \u001b[0mn\u001b[0m\u001b[1;33m)\u001b[0m\u001b[1;33m)\u001b[0m\u001b[1;33m\u001b[0m\u001b[1;33m\u001b[0m\u001b[0m\n\u001b[0m\u001b[0;32m      7\u001b[0m \u001b[1;33m\u001b[0m\u001b[0m\n\u001b[0;32m      8\u001b[0m     \u001b[1;32mreturn\u001b[0m \u001b[0mspinConfigurations\u001b[0m\u001b[1;33m\u001b[0m\u001b[1;33m\u001b[0m\u001b[0m\n",
      "\u001b[1;31mTypeError\u001b[0m: 'spinConfiguration' object is not callable"
     ]
    }
   ],
   "source": [
    "# calculate values for each category to be plotted\n",
    "import matplotlib.pyplot as plt\n",
    "temperatureValues = []\n",
    "averageEnergyValues = []\n",
    "averageMagnetismValues = []\n",
    "heatCapacityValues = []\n",
    "magneticSusceptibilityValues = []\n",
    "for i in range(1,100):\n",
    "    temperatureValues.append(i / 10)\n",
    "#     add averageEnergy and averageMagnetism values to lists\n",
    "    averageEnergyValues.append(calculateValues(i / 10, -2, 1.1)[\"averageEnergy\"])\n",
    "    averageMagnetismValues.append(calculateValues(i / 10, -2, 1.1)[\"averageMagnetism\"])\n",
    "    \n",
    "#     add heatCapacity value to list\n",
    "    heatCapacityValues.append(calculateHeatCapacity(calculateValues(i / 10, -2, 1.1)[\"averageEnergySquared\"], calculateValues(i / 10, -2, 1.1)[\"averageEnergy\"], calculateValues(i / 10, -2, 1.1)[\"temperature\"]))\n",
    "# add magnetic susceptibility value to list\n",
    "    magneticSusceptibilityValues.append(calculateMagneticSusceptibilty(calculateValues(i / 10, -2, 1.1)[\"averageMagnetismSquared\"], calculateValues(i / 10, -2, 1.1)[\"averageMagnetism\"], calculateValues(i / 10, -2, 1.1)[\"temperature\"]))"
   ]
  },
  {
   "cell_type": "code",
   "execution_count": 68,
   "id": "199fcab0",
   "metadata": {},
   "outputs": [
    {
     "ename": "ValueError",
     "evalue": "x and y must have same first dimension, but have shapes (1,) and (0,)",
     "output_type": "error",
     "traceback": [
      "\u001b[1;31m---------------------------------------------------------------------------\u001b[0m",
      "\u001b[1;31mValueError\u001b[0m                                Traceback (most recent call last)",
      "\u001b[1;32m~\\AppData\\Local\\Temp/ipykernel_52912/2496638456.py\u001b[0m in \u001b[0;36m<module>\u001b[1;34m\u001b[0m\n\u001b[0;32m      1\u001b[0m \u001b[1;31m# plot average energy values\u001b[0m\u001b[1;33m\u001b[0m\u001b[1;33m\u001b[0m\u001b[0m\n\u001b[1;32m----> 2\u001b[1;33m \u001b[0mplt\u001b[0m\u001b[1;33m.\u001b[0m\u001b[0mplot\u001b[0m\u001b[1;33m(\u001b[0m\u001b[0mtemperatureValues\u001b[0m\u001b[1;33m,\u001b[0m \u001b[0maverageEnergyValues\u001b[0m\u001b[1;33m,\u001b[0m \u001b[0mlabel\u001b[0m\u001b[1;33m=\u001b[0m\u001b[1;34m\"<E>\"\u001b[0m\u001b[1;33m)\u001b[0m\u001b[1;33m\u001b[0m\u001b[1;33m\u001b[0m\u001b[0m\n\u001b[0m\u001b[0;32m      3\u001b[0m \u001b[0mplt\u001b[0m\u001b[1;33m.\u001b[0m\u001b[0mplot\u001b[0m\u001b[1;33m(\u001b[0m\u001b[0mtemperatureValues\u001b[0m\u001b[1;33m,\u001b[0m \u001b[0maverageMagnetismValues\u001b[0m\u001b[1;33m,\u001b[0m \u001b[0mlabel\u001b[0m\u001b[1;33m=\u001b[0m\u001b[1;34m\"<M>\"\u001b[0m\u001b[1;33m)\u001b[0m\u001b[1;33m\u001b[0m\u001b[1;33m\u001b[0m\u001b[0m\n\u001b[0;32m      4\u001b[0m \u001b[0mplt\u001b[0m\u001b[1;33m.\u001b[0m\u001b[0mplot\u001b[0m\u001b[1;33m(\u001b[0m\u001b[0mtemperatureValues\u001b[0m\u001b[1;33m,\u001b[0m \u001b[0mheatCapacityValues\u001b[0m\u001b[1;33m,\u001b[0m \u001b[0mlabel\u001b[0m\u001b[1;33m=\u001b[0m\u001b[1;34m\"Heat Capacity\"\u001b[0m\u001b[1;33m)\u001b[0m\u001b[1;33m\u001b[0m\u001b[1;33m\u001b[0m\u001b[0m\n\u001b[0;32m      5\u001b[0m \u001b[0mplt\u001b[0m\u001b[1;33m.\u001b[0m\u001b[0mplot\u001b[0m\u001b[1;33m(\u001b[0m\u001b[0mtemperatureValues\u001b[0m\u001b[1;33m,\u001b[0m \u001b[0mmagneticSusceptibilityValues\u001b[0m\u001b[1;33m,\u001b[0m \u001b[0mlabel\u001b[0m\u001b[1;33m=\u001b[0m\u001b[1;34m\"Magnetic Susceptibility\"\u001b[0m\u001b[1;33m)\u001b[0m\u001b[1;33m\u001b[0m\u001b[1;33m\u001b[0m\u001b[0m\n",
      "\u001b[1;32m~\\Anaconda3\\lib\\site-packages\\matplotlib\\pyplot.py\u001b[0m in \u001b[0;36mplot\u001b[1;34m(scalex, scaley, data, *args, **kwargs)\u001b[0m\n\u001b[0;32m   3017\u001b[0m \u001b[1;33m@\u001b[0m\u001b[0m_copy_docstring_and_deprecators\u001b[0m\u001b[1;33m(\u001b[0m\u001b[0mAxes\u001b[0m\u001b[1;33m.\u001b[0m\u001b[0mplot\u001b[0m\u001b[1;33m)\u001b[0m\u001b[1;33m\u001b[0m\u001b[1;33m\u001b[0m\u001b[0m\n\u001b[0;32m   3018\u001b[0m \u001b[1;32mdef\u001b[0m \u001b[0mplot\u001b[0m\u001b[1;33m(\u001b[0m\u001b[1;33m*\u001b[0m\u001b[0margs\u001b[0m\u001b[1;33m,\u001b[0m \u001b[0mscalex\u001b[0m\u001b[1;33m=\u001b[0m\u001b[1;32mTrue\u001b[0m\u001b[1;33m,\u001b[0m \u001b[0mscaley\u001b[0m\u001b[1;33m=\u001b[0m\u001b[1;32mTrue\u001b[0m\u001b[1;33m,\u001b[0m \u001b[0mdata\u001b[0m\u001b[1;33m=\u001b[0m\u001b[1;32mNone\u001b[0m\u001b[1;33m,\u001b[0m \u001b[1;33m**\u001b[0m\u001b[0mkwargs\u001b[0m\u001b[1;33m)\u001b[0m\u001b[1;33m:\u001b[0m\u001b[1;33m\u001b[0m\u001b[1;33m\u001b[0m\u001b[0m\n\u001b[1;32m-> 3019\u001b[1;33m     return gca().plot(\n\u001b[0m\u001b[0;32m   3020\u001b[0m         \u001b[1;33m*\u001b[0m\u001b[0margs\u001b[0m\u001b[1;33m,\u001b[0m \u001b[0mscalex\u001b[0m\u001b[1;33m=\u001b[0m\u001b[0mscalex\u001b[0m\u001b[1;33m,\u001b[0m \u001b[0mscaley\u001b[0m\u001b[1;33m=\u001b[0m\u001b[0mscaley\u001b[0m\u001b[1;33m,\u001b[0m\u001b[1;33m\u001b[0m\u001b[1;33m\u001b[0m\u001b[0m\n\u001b[0;32m   3021\u001b[0m         **({\"data\": data} if data is not None else {}), **kwargs)\n",
      "\u001b[1;32m~\\Anaconda3\\lib\\site-packages\\matplotlib\\axes\\_axes.py\u001b[0m in \u001b[0;36mplot\u001b[1;34m(self, scalex, scaley, data, *args, **kwargs)\u001b[0m\n\u001b[0;32m   1603\u001b[0m         \"\"\"\n\u001b[0;32m   1604\u001b[0m         \u001b[0mkwargs\u001b[0m \u001b[1;33m=\u001b[0m \u001b[0mcbook\u001b[0m\u001b[1;33m.\u001b[0m\u001b[0mnormalize_kwargs\u001b[0m\u001b[1;33m(\u001b[0m\u001b[0mkwargs\u001b[0m\u001b[1;33m,\u001b[0m \u001b[0mmlines\u001b[0m\u001b[1;33m.\u001b[0m\u001b[0mLine2D\u001b[0m\u001b[1;33m)\u001b[0m\u001b[1;33m\u001b[0m\u001b[1;33m\u001b[0m\u001b[0m\n\u001b[1;32m-> 1605\u001b[1;33m         \u001b[0mlines\u001b[0m \u001b[1;33m=\u001b[0m \u001b[1;33m[\u001b[0m\u001b[1;33m*\u001b[0m\u001b[0mself\u001b[0m\u001b[1;33m.\u001b[0m\u001b[0m_get_lines\u001b[0m\u001b[1;33m(\u001b[0m\u001b[1;33m*\u001b[0m\u001b[0margs\u001b[0m\u001b[1;33m,\u001b[0m \u001b[0mdata\u001b[0m\u001b[1;33m=\u001b[0m\u001b[0mdata\u001b[0m\u001b[1;33m,\u001b[0m \u001b[1;33m**\u001b[0m\u001b[0mkwargs\u001b[0m\u001b[1;33m)\u001b[0m\u001b[1;33m]\u001b[0m\u001b[1;33m\u001b[0m\u001b[1;33m\u001b[0m\u001b[0m\n\u001b[0m\u001b[0;32m   1606\u001b[0m         \u001b[1;32mfor\u001b[0m \u001b[0mline\u001b[0m \u001b[1;32min\u001b[0m \u001b[0mlines\u001b[0m\u001b[1;33m:\u001b[0m\u001b[1;33m\u001b[0m\u001b[1;33m\u001b[0m\u001b[0m\n\u001b[0;32m   1607\u001b[0m             \u001b[0mself\u001b[0m\u001b[1;33m.\u001b[0m\u001b[0madd_line\u001b[0m\u001b[1;33m(\u001b[0m\u001b[0mline\u001b[0m\u001b[1;33m)\u001b[0m\u001b[1;33m\u001b[0m\u001b[1;33m\u001b[0m\u001b[0m\n",
      "\u001b[1;32m~\\Anaconda3\\lib\\site-packages\\matplotlib\\axes\\_base.py\u001b[0m in \u001b[0;36m__call__\u001b[1;34m(self, data, *args, **kwargs)\u001b[0m\n\u001b[0;32m    313\u001b[0m                 \u001b[0mthis\u001b[0m \u001b[1;33m+=\u001b[0m \u001b[0margs\u001b[0m\u001b[1;33m[\u001b[0m\u001b[1;36m0\u001b[0m\u001b[1;33m]\u001b[0m\u001b[1;33m,\u001b[0m\u001b[1;33m\u001b[0m\u001b[1;33m\u001b[0m\u001b[0m\n\u001b[0;32m    314\u001b[0m                 \u001b[0margs\u001b[0m \u001b[1;33m=\u001b[0m \u001b[0margs\u001b[0m\u001b[1;33m[\u001b[0m\u001b[1;36m1\u001b[0m\u001b[1;33m:\u001b[0m\u001b[1;33m]\u001b[0m\u001b[1;33m\u001b[0m\u001b[1;33m\u001b[0m\u001b[0m\n\u001b[1;32m--> 315\u001b[1;33m             \u001b[1;32myield\u001b[0m \u001b[1;32mfrom\u001b[0m \u001b[0mself\u001b[0m\u001b[1;33m.\u001b[0m\u001b[0m_plot_args\u001b[0m\u001b[1;33m(\u001b[0m\u001b[0mthis\u001b[0m\u001b[1;33m,\u001b[0m \u001b[0mkwargs\u001b[0m\u001b[1;33m)\u001b[0m\u001b[1;33m\u001b[0m\u001b[1;33m\u001b[0m\u001b[0m\n\u001b[0m\u001b[0;32m    316\u001b[0m \u001b[1;33m\u001b[0m\u001b[0m\n\u001b[0;32m    317\u001b[0m     \u001b[1;32mdef\u001b[0m \u001b[0mget_next_color\u001b[0m\u001b[1;33m(\u001b[0m\u001b[0mself\u001b[0m\u001b[1;33m)\u001b[0m\u001b[1;33m:\u001b[0m\u001b[1;33m\u001b[0m\u001b[1;33m\u001b[0m\u001b[0m\n",
      "\u001b[1;32m~\\Anaconda3\\lib\\site-packages\\matplotlib\\axes\\_base.py\u001b[0m in \u001b[0;36m_plot_args\u001b[1;34m(self, tup, kwargs, return_kwargs)\u001b[0m\n\u001b[0;32m    499\u001b[0m \u001b[1;33m\u001b[0m\u001b[0m\n\u001b[0;32m    500\u001b[0m         \u001b[1;32mif\u001b[0m \u001b[0mx\u001b[0m\u001b[1;33m.\u001b[0m\u001b[0mshape\u001b[0m\u001b[1;33m[\u001b[0m\u001b[1;36m0\u001b[0m\u001b[1;33m]\u001b[0m \u001b[1;33m!=\u001b[0m \u001b[0my\u001b[0m\u001b[1;33m.\u001b[0m\u001b[0mshape\u001b[0m\u001b[1;33m[\u001b[0m\u001b[1;36m0\u001b[0m\u001b[1;33m]\u001b[0m\u001b[1;33m:\u001b[0m\u001b[1;33m\u001b[0m\u001b[1;33m\u001b[0m\u001b[0m\n\u001b[1;32m--> 501\u001b[1;33m             raise ValueError(f\"x and y must have same first dimension, but \"\n\u001b[0m\u001b[0;32m    502\u001b[0m                              f\"have shapes {x.shape} and {y.shape}\")\n\u001b[0;32m    503\u001b[0m         \u001b[1;32mif\u001b[0m \u001b[0mx\u001b[0m\u001b[1;33m.\u001b[0m\u001b[0mndim\u001b[0m \u001b[1;33m>\u001b[0m \u001b[1;36m2\u001b[0m \u001b[1;32mor\u001b[0m \u001b[0my\u001b[0m\u001b[1;33m.\u001b[0m\u001b[0mndim\u001b[0m \u001b[1;33m>\u001b[0m \u001b[1;36m2\u001b[0m\u001b[1;33m:\u001b[0m\u001b[1;33m\u001b[0m\u001b[1;33m\u001b[0m\u001b[0m\n",
      "\u001b[1;31mValueError\u001b[0m: x and y must have same first dimension, but have shapes (1,) and (0,)"
     ]
    },
    {
     "data": {
      "image/png": "[encoded data removed]",
      "text/plain": [
       "<Figure size 432x288 with 1 Axes>"
      ]
     },
     "metadata": {
      "needs_background": "light"
     },
     "output_type": "display_data"
    }
   ],
   "source": [
    "# plot average energy values\n",
    "plt.plot(temperatureValues, averageEnergyValues, label=\"<E>\")\n",
    "plt.plot(temperatureValues, averageMagnetismValues, label=\"<M>\")\n",
    "plt.plot(temperatureValues, heatCapacityValues, label=\"Heat Capacity\")\n",
    "plt.plot(temperatureValues, magneticSusceptibilityValues, label=\"Magnetic Susceptibility\")\n",
    "plt.legend()\n",
    "plt.show()"
   ]
  },
  {
   "cell_type": "markdown",
   "id": "f0c9d016-a10a-42d2-9a0f-388c52b2544b",
   "metadata": {},
   "source": [
    "## Properties\n",
    "For any fixed state, $\\alpha$, the `magnetization` ($M$) is proportional to the _excess_ number of spins pointing up or down while the energy is given by the\n",
    "Hamiltonian:\n",
    "$$M(\\alpha) = N_{\\text{up}}(\\alpha) - N_{\\text{down}}(\\alpha).$$\n",
    "As a dynamical, fluctuating system, each time you measure the magnetization, the system might be in a different state ($\\alpha$) and so you'll get a different number!\n",
    "However, we already know what the probability of measuring any particular $\\alpha$ is, so in order to compute the average magnetization, $\\left<M\\right>$, we just need to multiply the magnetization of each possible configuration times the probability of it being measured, and then add them all up!\n",
    "$$ \\left<M\\right> = \\sum_\\alpha M(\\alpha)P(\\alpha).$$\n",
    "In fact, any average value can be obtained by adding up the value of an individual configuration multiplied by it's probability:\n",
    "$$ \\left<E\\right> = \\sum_\\alpha E(\\alpha)P(\\alpha).$$\n",
    "\n",
    "This means that to obtain any average value (also known as an `expectation value`) computationally, we must compute the both the value and probability of all possible configurations. This becomes extremely expensive as the number of spins ($N$) increases. "
   ]
  },
  {
   "cell_type": "markdown",
   "id": "941eae54-5115-480b-8398-b17c3c75c956",
   "metadata": {},
   "source": [
    "## P3: Write a function that computes the magnetization of a spin configuration"
   ]
  },
  {
   "cell_type": "code",
   "execution_count": null,
   "id": "8139466b-5b34-469a-92f4-97b57c21ae6b",
   "metadata": {},
   "outputs": [],
   "source": []
  },
  {
   "cell_type": "markdown",
   "id": "033109e0-109f-4c64-b0ee-2e0483358c7b",
   "metadata": {},
   "source": [
    "## Q2: How many configurations are possible for:"
   ]
  },
  {
   "cell_type": "markdown",
   "id": "6ef8a8f2-7e4d-459b-9b2b-7c66c61d4af3",
   "metadata": {},
   "source": [
    "(a) N=10?"
   ]
  },
  {
   "cell_type": "code",
   "execution_count": null,
   "id": "a9f3860d-ae6d-41dc-9cb5-ceef514ae2ec",
   "metadata": {},
   "outputs": [],
   "source": []
  },
  {
   "cell_type": "markdown",
   "id": "8242f238-6005-417a-befe-436bf654d848",
   "metadata": {},
   "source": [
    "(b) N=100?"
   ]
  },
  {
   "cell_type": "code",
   "execution_count": null,
   "id": "59190a5e-8eed-42ae-8363-4d7bcbbdd01f",
   "metadata": {},
   "outputs": [],
   "source": []
  },
  {
   "cell_type": "markdown",
   "id": "0acb89e4-c9ec-4828-882b-036ca7f70091",
   "metadata": {},
   "source": [
    "(c) N=1000?"
   ]
  },
  {
   "cell_type": "markdown",
   "id": "2d7b8fce-cc23-4686-a3ed-8d97592043d4",
   "metadata": {},
   "source": [
    "## Q3: What is the energy for (++-+---+--+)?"
   ]
  },
  {
   "cell_type": "code",
   "execution_count": null,
   "id": "b4f6d6e9-4379-409f-8a31-9b6d65a6f5fd",
   "metadata": {},
   "outputs": [],
   "source": []
  },
  {
   "cell_type": "markdown",
   "id": "1469f7ec",
   "metadata": {},
   "source": [
    "## Testing Functions"
   ]
  },
  {
   "cell_type": "code",
   "execution_count": 41,
   "id": "4f293aac",
   "metadata": {},
   "outputs": [],
   "source": [
    "def testSpinConfiguration():\n",
    "    spinConfiguration = spinConfiguration([-1, -1], 2)\n",
    "    assert(spinConfiguration.)"
   ]
  },
  {
   "cell_type": "code",
   "execution_count": null,
   "id": "0b84f86b",
   "metadata": {},
   "outputs": [],
   "source": []
  }
 ],
 "metadata": {
  "kernelspec": {
   "display_name": "Python 3 (ipykernel)",
   "language": "python",
   "name": "python3"
  },
  "language_info": {
   "codemirror_mode": {
    "name": "ipython",
    "version": 3
   },
   "file_extension": ".py",
   "mimetype": "text/x-python",
   "name": "python",
   "nbconvert_exporter": "python",
   "pygments_lexer": "ipython3",
   "version": "3.9.7"
  }
 },
 "nbformat": 4,
 "nbformat_minor": 5
}
